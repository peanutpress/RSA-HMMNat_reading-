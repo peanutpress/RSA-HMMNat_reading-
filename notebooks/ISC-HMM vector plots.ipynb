{
 "cells": [
  {
   "cell_type": "code",
   "execution_count": 1,
   "id": "9e854b85-2127-46ea-af65-ce4dbbce4afd",
   "metadata": {},
   "outputs": [
    {
     "name": "stdout",
     "output_type": "stream",
     "text": [
      "Saved ISC and HMM adjacency vector plot for PTL at /Volumes/ARCHIVES/thesis_pipeline/figures/HMM_ISRSA_vectors/PTL_ISC_HMM_vectors.png\n",
      "Saved ISC and HMM adjacency vector plot for ATL at /Volumes/ARCHIVES/thesis_pipeline/figures/HMM_ISRSA_vectors/ATL_ISC_HMM_vectors.png\n",
      "Saved ISC and HMM adjacency vector plot for AG at /Volumes/ARCHIVES/thesis_pipeline/figures/HMM_ISRSA_vectors/AG_ISC_HMM_vectors.png\n",
      "Saved ISC and HMM adjacency vector plot for IFG at /Volumes/ARCHIVES/thesis_pipeline/figures/HMM_ISRSA_vectors/IFG_ISC_HMM_vectors.png\n",
      "Saved ISC and HMM adjacency vector plot for MFG at /Volumes/ARCHIVES/thesis_pipeline/figures/HMM_ISRSA_vectors/MFG_ISC_HMM_vectors.png\n",
      "Saved ISC and HMM adjacency vector plot for IFGorb at /Volumes/ARCHIVES/thesis_pipeline/figures/HMM_ISRSA_vectors/IFGorb_ISC_HMM_vectors.png\n"
     ]
    }
   ],
   "source": [
    "import numpy as np\n",
    "import os\n",
    "import matplotlib.pyplot as plt\n",
    "\n",
    "# Paths to saved ISC vectors and HMM adjacency matrices\n",
    "isc_dir = '/Volumes/ARCHIVES/thesis_pipeline/data/ISC_vectors'\n",
    "adjacency_dir = '/Volumes/ARCHIVES/thesis_pipeline/data/group_level_adjacency_matrices'\n",
    "figures_dir = '/Volumes/ARCHIVES/thesis_pipeline/figures/HMM_ISRSA_vectors'\n",
    "os.makedirs(figures_dir, exist_ok=True)\n",
    "\n",
    "roi_names = ['PTL', 'ATL', 'AG', 'IFG', 'MFG', 'IFGorb']\n",
    "\n",
    "# Function to compute mean adjacency vector from HMM adjacency matrix\n",
    "def compute_hmm_adjacency_vector(adjacency_matrix):\n",
    "    return np.mean(adjacency_matrix, axis=1)\n",
    "\n",
    "for roi in roi_names:\n",
    "    # Load the ISC vector for IS-RSA\n",
    "    isc_path = os.path.join(isc_dir, f'{roi}_ISC_vector.npy')\n",
    "    adjacency_path = os.path.join(adjacency_dir, f'{roi}_adjacency_matrix.npy')\n",
    "    \n",
    "    if os.path.exists(isc_path) and os.path.exists(adjacency_path):\n",
    "        # Load ISC vector and HMM adjacency matrix\n",
    "        isc_vector = np.load(isc_path)\n",
    "        hmm_adjacency_matrix = np.load(adjacency_path)\n",
    "        \n",
    "        # Convert HMM adjacency matrix to vector\n",
    "        hmm_adjacency_vector = compute_hmm_adjacency_vector(hmm_adjacency_matrix)\n",
    "        \n",
    "        # Ensure both vectors have the same length\n",
    "        if len(isc_vector) != len(hmm_adjacency_vector):\n",
    "            print(f\"Length mismatch for {roi}: ISC vector length is {len(isc_vector)}, \"\n",
    "                  f\"HMM adjacency vector length is {len(hmm_adjacency_vector)}. Skipping.\")\n",
    "            continue\n",
    "        \n",
    "        # Plot ISC vector and HMM adjacency vector\n",
    "        plt.figure(figsize=(10, 6))\n",
    "        plt.plot(isc_vector, label='ISC Vector', color='blue', alpha=0.7)\n",
    "        plt.plot(hmm_adjacency_vector, label='HMM Adjacency Vector', color='red', alpha=0.7)\n",
    "        plt.xlabel('Time Points')\n",
    "        plt.ylabel('Value')\n",
    "        plt.title(f'ISC and HMM Adjacency Vectors for {roi}')\n",
    "        plt.legend()\n",
    "        plt.grid(True)\n",
    "        \n",
    "        # Save the plot\n",
    "        plot_path = os.path.join(figures_dir, f'{roi}_ISC_HMM_vectors.png')\n",
    "        plt.savefig(plot_path)\n",
    "        plt.close()\n",
    "        \n",
    "        print(f\"Saved ISC and HMM adjacency vector plot for {roi} at {plot_path}\")\n",
    "    else:\n",
    "        print(f\"ISC vector or HMM adjacency matrix for {roi} not found.\")\n"
   ]
  },
  {
   "cell_type": "code",
   "execution_count": null,
   "id": "756e14a0-6823-4373-a5b0-a0ef7a7520ea",
   "metadata": {},
   "outputs": [],
   "source": []
  }
 ],
 "metadata": {
  "kernelspec": {
   "display_name": "Python 3 (ipykernel)",
   "language": "python",
   "name": "python3"
  },
  "language_info": {
   "codemirror_mode": {
    "name": "ipython",
    "version": 3
   },
   "file_extension": ".py",
   "mimetype": "text/x-python",
   "name": "python",
   "nbconvert_exporter": "python",
   "pygments_lexer": "ipython3",
   "version": "3.9.19"
  }
 },
 "nbformat": 4,
 "nbformat_minor": 5
}
