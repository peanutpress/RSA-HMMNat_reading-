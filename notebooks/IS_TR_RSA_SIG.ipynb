{
 "cells": [
  {
   "cell_type": "code",
   "execution_count": 1,
   "id": "cc9e36b0-aca0-451c-bf46-0e426e8625a6",
   "metadata": {},
   "outputs": [],
   "source": [
    "import os\n",
    "import pickle\n",
    "import numpy as np\n",
    "import matplotlib.pyplot as plt\n",
    "import seaborn as sns\n",
    "from brainiak.fcma.util import compute_correlation\n",
    "from sklearn.metrics import pairwise_distances\n",
    "import matplotlib.animation as animation\n",
    "from scipy.stats import spearmanr"
   ]
  },
  {
   "cell_type": "code",
   "execution_count": 2,
   "id": "6d991dc8-f4ba-473b-9012-8c74c6c913e7",
   "metadata": {},
   "outputs": [
    {
     "name": "stdout",
     "output_type": "stream",
     "text": [
      "Loaded RSA matrices shape: (6, 1291, 8, 8)\n",
      "Sample data for region 0, TR 0:\n",
      "[[1.00000012e+00 3.58280063e-01 3.63430709e-01 3.70546639e-01\n",
      "  4.28657144e-01 3.77661496e-01 5.32333314e-01 3.16591710e-01]\n",
      " [3.58280063e-01 1.00000000e+00 6.19233131e-01 4.74108160e-01\n",
      "  3.37872148e-01 3.70413274e-01 4.83037442e-01 1.72313392e-01]\n",
      " [3.63430709e-01 6.19233131e-01 1.00000012e+00 3.32206488e-01\n",
      "  3.04912984e-01 3.76750588e-01 3.73264045e-01 1.67341948e-01]\n",
      " [3.70546639e-01 4.74108160e-01 3.32206488e-01 1.00000012e+00\n",
      "  3.51038009e-01 3.66806298e-01 5.24829090e-01 5.12081504e-01]\n",
      " [4.28657144e-01 3.37872148e-01 3.04912984e-01 3.51038009e-01\n",
      "  1.00000024e+00 3.47161293e-01 3.74337554e-01 3.49258572e-01]\n",
      " [3.77661496e-01 3.70413274e-01 3.76750588e-01 3.66806298e-01\n",
      "  3.47161293e-01 1.00000012e+00 3.81696016e-01 2.19954163e-04]\n",
      " [5.32333314e-01 4.83037442e-01 3.73264045e-01 5.24829090e-01\n",
      "  3.74337554e-01 3.81696016e-01 1.00000000e+00 4.38317716e-01]\n",
      " [3.16591710e-01 1.72313392e-01 1.67341948e-01 5.12081504e-01\n",
      "  3.49258572e-01 2.19954163e-04 4.38317716e-01 1.00000000e+00]]\n"
     ]
    }
   ],
   "source": [
    "# Load the RSA matrices (regions x TRs x subjects x subjects)\n",
    "npy_file = '/Volumes/ARCHIVES/thesis_pipeline/data/IS_TR_RSA_ROIS/IS_TR_RSA_matrices_all_ROIs.npy'\n",
    "rsa_matrices = np.load(npy_file)\n",
    "\n",
    "# Display the shape and some data to ensure it's loaded correctly\n",
    "print(f\"Loaded RSA matrices shape: {rsa_matrices.shape}\")\n",
    "print(f\"Sample data for region 0, TR 0:\\n{rsa_matrices[0, 0]}\")\n"
   ]
  },
  {
   "cell_type": "code",
   "execution_count": 3,
   "id": "e076dc90-9ae4-45be-895b-5d4947e95308",
   "metadata": {},
   "outputs": [
    {
     "name": "stdout",
     "output_type": "stream",
     "text": [
      "Lower triangle values for region 0, TR 0:\n",
      "[3.58280063e-01 3.63430709e-01 6.19233131e-01 3.70546639e-01\n",
      " 4.74108160e-01 3.32206488e-01 4.28657144e-01 3.37872148e-01\n",
      " 3.04912984e-01 3.51038009e-01 3.77661496e-01 3.70413274e-01\n",
      " 3.76750588e-01 3.66806298e-01 3.47161293e-01 5.32333314e-01\n",
      " 4.83037442e-01 3.73264045e-01 5.24829090e-01 3.74337554e-01\n",
      " 3.81696016e-01 3.16591710e-01 1.72313392e-01 1.67341948e-01\n",
      " 5.12081504e-01 3.49258572e-01 2.19954163e-04 4.38317716e-01]\n"
     ]
    }
   ],
   "source": [
    "# Get the shape details from the loaded data\n",
    "regions, trs, subjects, _ = rsa_matrices.shape\n",
    "\n",
    "# Extract a sample subject-by-subject RSA matrix for region 0, TR 0\n",
    "subject_corr_matrix = rsa_matrices[0, 0, :, :]\n",
    "\n",
    "# Get the lower triangle (excluding the diagonal)\n",
    "lower_triangle = np.tril_indices(subjects, -1)\n",
    "observed_values = subject_corr_matrix[lower_triangle]\n",
    "\n",
    "# Display the extracted values\n",
    "print(f\"Lower triangle values for region 0, TR 0:\\n{observed_values}\")\n"
   ]
  },
  {
   "cell_type": "code",
   "execution_count": 5,
   "id": "bd65b6c6-5afb-488f-aa98-9aaa8cb30680",
   "metadata": {},
   "outputs": [
    {
     "name": "stdout",
     "output_type": "stream",
     "text": [
      "Observed mean correlation for region 0, TR 0: 0.37159645284607123\n"
     ]
    }
   ],
   "source": [
    "# Compute the mean of the lower triangle for the observed values\n",
    "observed_mean_corr = np.mean(observed_values)\n",
    "\n",
    "# Display the observed mean correlation\n",
    "print(f\"Observed mean correlation for region 0, TR 0: {observed_mean_corr}\")\n"
   ]
  },
  {
   "cell_type": "code",
   "execution_count": 6,
   "id": "f47f8b0e-2934-47bb-82e9-f9711e4bed35",
   "metadata": {},
   "outputs": [
    {
     "name": "stdout",
     "output_type": "stream",
     "text": [
      "Permuted lower triangle values:\n",
      "[6.19233131e-01 1.67341948e-01 1.72313392e-01 3.76750588e-01\n",
      " 3.70413274e-01 2.19954163e-04 3.32206488e-01 4.74108160e-01\n",
      " 5.12081504e-01 3.66806298e-01 3.04912984e-01 3.37872148e-01\n",
      " 3.49258572e-01 3.47161293e-01 3.51038009e-01 3.63430709e-01\n",
      " 3.58280063e-01 3.16591710e-01 3.77661496e-01 3.70546639e-01\n",
      " 4.28657144e-01 3.73264045e-01 4.83037442e-01 4.38317716e-01\n",
      " 3.81696016e-01 5.24829090e-01 3.74337554e-01 5.32333314e-01]\n"
     ]
    }
   ],
   "source": [
    "# Shuffle the subject order (permute rows and columns)\n",
    "permuted_indices = np.random.permutation(subjects)\n",
    "permuted_matrix = subject_corr_matrix[permuted_indices, :][:, permuted_indices]\n",
    "\n",
    "# Extract the lower triangle for the permuted matrix\n",
    "permuted_values = permuted_matrix[lower_triangle]\n",
    "\n",
    "# Display the permuted lower triangle values\n",
    "print(f\"Permuted lower triangle values:\\n{permuted_values}\")\n"
   ]
  },
  {
   "cell_type": "code",
   "execution_count": 7,
   "id": "6d33568a-6969-4aec-8157-7451c7603d69",
   "metadata": {},
   "outputs": [
    {
     "name": "stdout",
     "output_type": "stream",
     "text": [
      "Permuted mean correlation for region 0, TR 0: 0.37159645284607123\n"
     ]
    }
   ],
   "source": [
    "# Compute the mean of the lower triangle for the permuted values\n",
    "permuted_mean_corr = np.mean(permuted_values)\n",
    "\n",
    "# Display the permuted mean correlation\n",
    "print(f\"Permuted mean correlation for region 0, TR 0: {permuted_mean_corr}\")\n"
   ]
  },
  {
   "cell_type": "code",
   "execution_count": 8,
   "id": "f83cb257-86ed-4f4d-a69b-a8390cdc950a",
   "metadata": {},
   "outputs": [
    {
     "name": "stdout",
     "output_type": "stream",
     "text": [
      "Null distribution:\n",
      "[0.37159645 0.37159645 0.37159645 0.37159645 0.37159645 0.37159645\n",
      " 0.37159645 0.37159645 0.37159645 0.37159645]\n",
      "Proportion of permuted correlations >= observed: 1.0\n"
     ]
    }
   ],
   "source": [
    "n_permutations = 10\n",
    "null_distribution = np.zeros(n_permutations)\n",
    "\n",
    "for perm in range(n_permutations):\n",
    "    # Shuffle the subject order\n",
    "    permuted_indices = np.random.permutation(subjects)\n",
    "    permuted_matrix = subject_corr_matrix[permuted_indices, :][:, permuted_indices]\n",
    "    \n",
    "    # Extract the lower triangle for the permuted matrix\n",
    "    permuted_values = permuted_matrix[lower_triangle]\n",
    "    \n",
    "    # Compute the mean for the permuted lower triangle\n",
    "    null_distribution[perm] = np.mean(permuted_values)\n",
    "\n",
    "# Compare the observed mean to the null distribution\n",
    "print(f\"Null distribution:\\n{null_distribution}\")\n",
    "print(f\"Proportion of permuted correlations >= observed: {np.mean(null_distribution >= observed_mean_corr)}\")\n"
   ]
  },
  {
   "cell_type": "code",
   "execution_count": null,
   "id": "2a28ab02-b045-4fcf-8c76-4b518010bc76",
   "metadata": {},
   "outputs": [],
   "source": []
  }
 ],
 "metadata": {
  "kernelspec": {
   "display_name": "Python 3 (ipykernel)",
   "language": "python",
   "name": "python3"
  },
  "language_info": {
   "codemirror_mode": {
    "name": "ipython",
    "version": 3
   },
   "file_extension": ".py",
   "mimetype": "text/x-python",
   "name": "python",
   "nbconvert_exporter": "python",
   "pygments_lexer": "ipython3",
   "version": "3.9.19"
  }
 },
 "nbformat": 4,
 "nbformat_minor": 5
}
