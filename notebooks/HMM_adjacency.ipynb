{
 "cells": [
  {
   "cell_type": "code",
   "execution_count": null,
   "id": "c12caf55-b2f5-457c-a0d3-c02b1be18f43",
   "metadata": {},
   "outputs": [],
   "source": [
    "\n",
    "import numpy as np\n",
    "import matplotlib.pyplot as plt\n",
    "import seaborn as sns\n",
    "from scipy.stats import spearmanr\n",
    "\n",
    "import os\n",
    "\n",
    "\n",
    "# Paths for data and adjacency matrices\n",
    "hmm_dir = '/Volumes/ARCHIVES/thesis_pipeline/data/group_level_HMM'\n",
    "adjacency_dir = '/Volumes/ARCHIVES/thesis_pipeline/data/group_level_adjacency_matrices'\n",
    "figures_dir = '/Volumes/ARCHIVES/thesis_pipeline/figures/adjacency_matrices'\n",
    "\n",
    "\n",
    "os.makedirs(adjacency_dir, exist_ok=True)\n",
    "os.makedirs(figures_dir , exist_ok=True)\n",
    "\n",
    "roi_names = ['PTL', 'ATL', 'AG', 'IFG', 'MFG', 'IFGorb']"
   ]
  },
  {
   "cell_type": "code",
   "execution_count": null,
   "id": "44dad04d-600b-484c-a8ef-79d1c4e51849",
   "metadata": {},
   "outputs": [],
   "source": [
    "def create_adjacency_matrix(n_TRs, event_bounds):\n",
    "    print(f\"Building adjacency matrix for {n_TRs} TRs...\")\n",
    "    adjacency_matrix = np.zeros((n_TRs, n_TRs))\n",
    "\n",
    "    # Augment boundaries with start and end of the sequence\n",
    "    bounds_augmented = np.concatenate(([0], event_bounds, [n_TRs]))\n",
    "    print(f\"  Event boundaries augmented with start and end: {bounds_augmented[:10]}... (showing first 10)\")\n",
    "\n",
    "    # Fill the adjacency matrix for each segment\n",
    "    for i in range(len(bounds_augmented) - 1):\n",
    "        start, end = bounds_augmented[i], bounds_augmented[i + 1]\n",
    "        adjacency_matrix[start:end, start:end] = 1\n",
    "        print(f\"  Filled segment from {start} to {end}\")\n",
    "\n",
    "    print(\"Adjacency matrix construction complete.\")\n",
    "    return adjacency_matrix\n"
   ]
  },
  {
   "cell_type": "code",
   "execution_count": null,
   "id": "280e01fb-eb04-4283-830e-ead55b96ce18",
   "metadata": {},
   "outputs": [],
   "source": [
    "# Construct and save adjacency matrices for each ROI\n",
    "for roi in roi_names:\n",
    "    event_bounds_path = os.path.join(hmm_dir, f'{roi}_event_bounds.npy')\n",
    "    group_data_path = os.path.join('/Volumes/ARCHIVES/thesis_pipeline/data/group_SRM_data', f'{roi}_group_SRM_data.npy')\n",
    "    \n",
    "    # Check if event boundaries and group data exist\n",
    "    if os.path.exists(event_bounds_path) and os.path.exists(group_data_path):\n",
    "        event_bounds = np.load(event_bounds_path)\n",
    "        n_TRs = np.load(group_data_path).shape[1]  # TRs are the second dimension of group data\n",
    "        \n",
    "        # Construct the adjacency matrix\n",
    "        adjacency_matrix = create_adjacency_matrix(n_TRs, event_bounds)\n",
    "        \n",
    "        # Save the adjacency matrix\n",
    "        adjacency_save_path = os.path.join(adjacency_dir, f'{roi}_adjacency_matrix.npy')\n",
    "        np.save(adjacency_save_path, adjacency_matrix)\n",
    "        \n",
    "        print(f\"Saved adjacency matrix for {roi} with shape {adjacency_matrix.shape}\")\n",
    "    else:\n",
    "        print(f\"Event boundaries or group data for {roi} not found.\")"
   ]
  },
  {
   "cell_type": "code",
   "execution_count": null,
   "id": "b0635880-6156-4ce9-af44-0004a54fd612",
   "metadata": {},
   "outputs": [],
   "source": [
    "for roi in roi_names:\n",
    "    adjacency_path = os.path.join(adjacency_dir, f'{roi}_adjacency_matrix.npy')\n",
    "    \n",
    "    if os.path.exists(adjacency_path):\n",
    "        adjacency_matrix = np.load(adjacency_path)\n",
    "        \n",
    "        # Plot the adjacency matrix without tick labels\n",
    "        plt.figure(figsize=(10, 8))\n",
    "        sns.heatmap(adjacency_matrix, cmap='Blues', cbar=True)\n",
    "        plt.title(f'Adjacency Matrix - {roi}', fontsize=16, weight='bold')\n",
    "        plt.xlabel('TRs', fontsize=14, weight='bold')\n",
    "        plt.ylabel('TRs', fontsize=14, weight='bold')\n",
    "        \n",
    "       \n",
    "        plt.xticks([])\n",
    "        plt.yticks([])\n",
    "        \n",
    "       \n",
    "        plot_save_path = os.path.join(figures_dir, f'{roi}_adjacency_matrix.png')\n",
    "        plt.tight_layout()\n",
    "        plt.savefig(plot_save_path, dpi=300)\n",
    "        plt.close()\n",
    "        \n",
    "        print(f\"Saved adjacency matrix plot for {roi} at {plot_save_path}\")\n",
    "        \n",
    "    else:\n",
    "        print(f\"Adjacency matrix file for {roi} not found.\")"
   ]
  },
  {
   "cell_type": "code",
   "execution_count": null,
   "id": "b0e6434f-3139-4e8f-9b70-2546d58e5584",
   "metadata": {},
   "outputs": [],
   "source": [
    "isc_dir = '/Volumes/ARCHIVES/thesis_pipeline/data/ISC_vectors'\n",
    "\n",
    "def compute_hmm_adjacency_vector(adjacency_matrix):\n",
    "    return np.mean(adjacency_matrix, axis=1)"
   ]
  },
  {
   "cell_type": "code",
   "execution_count": null,
   "id": "851a1f19-d03e-4715-8092-21554863c9c3",
   "metadata": {},
   "outputs": [],
   "source": [
    "# Main analysis loop for each ROI\n",
    "for roi in roi_names:\n",
    "    isc_path = os.path.join(isc_dir, f'{roi}_ISC_vector.npy')\n",
    "    adjacency_path = os.path.join(adjacency_dir, f'{roi}_adjacency_matrix.npy')\n",
    "    \n",
    "    if os.path.exists(isc_path) and os.path.exists(adjacency_path):\n",
    "        # Load ISC vector from IS-RSA and HMM adjacency matrix\n",
    "        isc_vector = np.load(isc_path)\n",
    "        hmm_adjacency_matrix = np.load(adjacency_path)\n",
    "        \n",
    "        # Convert HMM adjacency matrix to a vector\n",
    "        hmm_adjacency_vector = compute_hmm_adjacency_vector(hmm_adjacency_matrix)\n",
    "        \n",
    "        # Convert both vectors to Adjacency objects for nltools\n",
    "        isc_adjacency = Adjacency(isc_vector)\n",
    "        hmm_adjacency = Adjacency(hmm_adjacency_vector)\n",
    "        \n",
    "        # Compute observed correlation\n",
    "        observed_correlation = isc_adjacency.similarity(hmm_adjacency, metric='spearman')['correlation']\n",
    "        print(f\"Observed correlation for {roi}: {observed_correlation}\")\n",
    "        \n",
    "        # Permutation testing\n",
    "        permuted_correlations = []\n",
    "        for _ in range(n_permutations):\n",
    "            np.random.shuffle(isc_vector)  # Shuffle ISC vector for null distribution\n",
    "            permuted_correlation = spearmanr(isc_vector, hmm_adjacency_vector)[0]\n",
    "            permuted_correlations.append(permuted_correlation)\n",
    "        \n",
    "        # Calculate p-value\n",
    "        permuted_correlations = np.array(permuted_correlations)\n",
    "        p_value = (np.sum(permuted_correlations >= observed_correlation) + 1) / (n_permutations + 1)\n",
    "        \n",
    "        print(f\"Permutation test p-value for {roi}: {p_value}\")\n",
    "    else:\n",
    "        print(f\"ISC vector or HMM adjacency matrix for {roi} not found.\")"
   ]
  },
  {
   "cell_type": "code",
   "execution_count": null,
   "id": "60041da8-887d-4508-ad34-19cd817c7c37",
   "metadata": {},
   "outputs": [],
   "source": []
  },
  {
   "cell_type": "code",
   "execution_count": null,
   "id": "52c075ab-4136-4c4a-9939-13eaf28be8d3",
   "metadata": {},
   "outputs": [],
   "source": [
    "\n"
   ]
  },
  {
   "cell_type": "code",
   "execution_count": null,
   "id": "23a3b4fb-6469-487d-857e-e89701d52231",
   "metadata": {},
   "outputs": [],
   "source": []
  }
 ],
 "metadata": {
  "kernelspec": {
   "display_name": "Python 3 (ipykernel)",
   "language": "python",
   "name": "python3"
  },
  "language_info": {
   "codemirror_mode": {
    "name": "ipython",
    "version": 3
   },
   "file_extension": ".py",
   "mimetype": "text/x-python",
   "name": "python",
   "nbconvert_exporter": "python",
   "pygments_lexer": "ipython3",
   "version": "3.9.19"
  }
 },
 "nbformat": 4,
 "nbformat_minor": 5
}
